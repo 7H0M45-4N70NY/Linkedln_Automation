{
  "nbformat": 4,
  "nbformat_minor": 0,
  "metadata": {
    "colab": {
      "provenance": []
    },
    "kernelspec": {
      "name": "python3",
      "display_name": "Python 3"
    },
    "language_info": {
      "name": "python"
    }
  },
  "cells": [
    {
      "cell_type": "code",
      "execution_count": 10,
      "metadata": {
        "id": "OhZmZLL1U6Dr"
      },
      "outputs": [],
      "source": [
        "from google.colab import userdata\n",
        "api_key=userdata.get('GOOGLE_API_KEY')"
      ]
    },
    {
      "cell_type": "code",
      "source": [
        "!pip install PyPDF2"
      ],
      "metadata": {
        "colab": {
          "base_uri": "https://localhost:8080/"
        },
        "id": "CgeZjMjpWPZv",
        "outputId": "97b88e29-e737-4531-8b9f-098b67ade0cc"
      },
      "execution_count": 3,
      "outputs": [
        {
          "output_type": "stream",
          "name": "stdout",
          "text": [
            "Collecting PyPDF2\n",
            "  Downloading pypdf2-3.0.1-py3-none-any.whl (232 kB)\n",
            "\u001b[2K     \u001b[90m━━━━━━━━━━━━━━━━━━━━━━━━━━━━━━━━━━━━━━━━\u001b[0m \u001b[32m232.6/232.6 kB\u001b[0m \u001b[31m3.2 MB/s\u001b[0m eta \u001b[36m0:00:00\u001b[0m\n",
            "\u001b[?25hInstalling collected packages: PyPDF2\n",
            "Successfully installed PyPDF2-3.0.1\n"
          ]
        }
      ]
    },
    {
      "cell_type": "code",
      "source": [
        "import google.generativeai as genai\n",
        "import PyPDF2\n",
        "import re"
      ],
      "metadata": {
        "id": "gSxT3qxsVTEB"
      },
      "execution_count": 4,
      "outputs": []
    },
    {
      "cell_type": "code",
      "source": [
        "# Open the job description in binary mode\n",
        "with open('/content/Thomas Antony Resume (2).pdf', 'rb') as f:\n",
        "    pdf_reader = PyPDF2.PdfReader(f)\n",
        "    resume_text = ''\n",
        "\n",
        "    # Extract text from each page\n",
        "    for page_num in range(len(pdf_reader.pages)):\n",
        "        page = pdf_reader.pages[page_num]\n",
        "        resume_text += page.extract_text()"
      ],
      "metadata": {
        "id": "K_-N6HxdVTms"
      },
      "execution_count": 5,
      "outputs": []
    },
    {
      "cell_type": "code",
      "source": [
        "resume_text"
      ],
      "metadata": {
        "colab": {
          "base_uri": "https://localhost:8080/",
          "height": 174
        },
        "id": "uAmW_aXQWfJv",
        "outputId": "b1d4bed5-5a6d-40ca-c20b-73b5265077c2"
      },
      "execution_count": 6,
      "outputs": [
        {
          "output_type": "execute_result",
          "data": {
            "text/plain": [
              "\"Panikeradom Angady Changanacherry\\n686101\\n6282076096,8547854537\\nthomasantony14@gmail.com\\nhttps://github.com/7H0M45-4N70NY\\nLinkedln :thomasantony666 Thomas Antony\\nA tech-savvy individual with a Pg\\ndiploma in Data Science and a\\nBachelor's degree in Business seeking\\nemployment as a Data Scientist.\\nPassionate about learning and\\nconsistently advancing my knowledge\\nand skills. Professional Summary\\nSkills and Proficiencies\\nTechnical Skills\\nPython \\nR\\nMS Excel\\nPower Bi & Tableau\\nSQL & PostreSQL\\nML Algorithms & Statistical tests\\nProject Management\\nKnowledge in industry- standards like CRISP-\\nDM, Scrum, Kanban for DS projects.\\nAgile project execution strategy \\nOrganization of resources for the project which\\nled to faster project turn around\\nProactively completing projects and seeking\\nfeedback\\nCreating Work plans and project timelinesProjects and Internships\\nMenternship - Identify premium pricing attributes for\\nhome insurance using R\\nCompany: MentorMind, co-certified by APS India\\nDuration: October 2023 - December 2023\\nGenerated recommendations for premium pricing\\nattributes for home insurance using the CRISP-DM\\nframework.\\n Menternship - Identify the best source of recruitment\\nfor a tech startup, based on previous data of candidate\\nsources and recruitment strategies\\nCompany: MentorMind, co-certified by Practo\\nDuration: October 2023- December 2023\\nMenternship - Identify customer segments for online\\nretail with the use of K-means clustering in R\\nCompany: MentorMind, co-certified by Snapdeal\\nDuration: October 2023 - December 2023\\nMenternship - Build a predictive model for employee\\nattrition on Python\\nCompany: co-certified by \\nAvetti Commerce\\nDuration: November 2023 - January 2024\\nMenternship - Automate the business loan approval\\nsystem for a central bank using historical data of\\nborrowers using PostgreSQL\\nCompany: MentorMind, co-certified by Accion Labs \\nDuration:   December 2023-February 2024\\nMenternship - Build a Content based Movie\\nRecommender System to recommend Movies using\\nOpen source Data in Python\\nCompany: MentorMind, co-certified by Arka\\nMediaworks \\nDuration:   December 2023-February 2024Education\\nPG Program in Data Science\\nMaharashtra Institute of Technology WPU\\n2023 to 2024\\nBachelor's Degree in\\nBusiness Administration\\nBangalore City University\\n2019 to 2022\\nHigher Secondary Education \\nin commerce\\nGovt HSS Changanacherry\\n2017 to 2019\\nAwards, Seminars,\\n& Other Skills\\nAdvanced Excel and Data analysis\\nCertificate of Recognition for\\nmentorship/internship projects\\nLOR from different campaigns of Snap Chat,\\nIntel & Pulsar for Digital Networking \\nUpcoming\""
            ],
            "application/vnd.google.colaboratory.intrinsic+json": {
              "type": "string"
            }
          },
          "metadata": {},
          "execution_count": 6
        }
      ]
    },
    {
      "cell_type": "code",
      "source": [
        "input_prompt1 = \"\"\"\n",
        " You are an experienced Technical Human Resource Manager,your task is to review the provided resume against the job description.\n",
        "  Please share your  evaluation on whether the candidate's profile aligns with the role.\n",
        " for the evaluation Highlight the strengths and weaknesses of the applicant in relation to the specified job requirements.\n",
        "  your task is to evaluate the resume against the provided job description. give me the percentage of match if the resume matches\n",
        "  the job description then keywords missing and last final thoughts. The output should come as dictonary and then keywords missing and last final thoughts\n",
        "  Additionally add a extra attribute in the output which is the chances of being shortlisted for the job as well\n",
        "\"\"\""
      ],
      "metadata": {
        "id": "qazS1PgjXZe9"
      },
      "execution_count": 30,
      "outputs": []
    },
    {
      "cell_type": "code",
      "source": [
        "import pandas as pd\n",
        "df=pd.read_csv(\"applied_jobs.csv\")\n",
        "df.head()"
      ],
      "metadata": {
        "id": "BHYdeVF3c3YJ",
        "colab": {
          "base_uri": "https://localhost:8080/",
          "height": 293
        },
        "outputId": "0531d317-3d87-414f-b018-cfc5b30b9dfd"
      },
      "execution_count": 9,
      "outputs": [
        {
          "output_type": "execute_result",
          "data": {
            "text/plain": [
              "                                            headline               job_title  \\\n",
              "0  SoStronk · Bengaluru, Karnataka, India · 2 day...            Data Analyst   \n",
              "1  Aryng · Bengaluru, Karnataka, India · 2 weeks ...  Data Scientist Analyst   \n",
              "2  SWASTIK PLACEMENT AGENCY · Ahmedabad, Gujarat,...            Data Analyst   \n",
              "3  Midtown Software · Chandigarh, India · Reposte...            Data Analyst   \n",
              "4  Allica Bank · Bangalore Urban, Karnataka, Indi...     Senior Data Analyst   \n",
              "\n",
              "                                     job_description  \\\n",
              "0  About the job\\nAbout SoStronk\\nAt SoStronk, we...   \n",
              "1  About the job\\nAbout Aryng :\\n\\nAryng is a Dat...   \n",
              "2  About the job\\nSwastik Placement Agency is cur...   \n",
              "3  About the job\\nThe ideal candidate will use th...   \n",
              "4  About the job\\nAbout Allica Bank\\nRecently nam...   \n",
              "\n",
              "                                                 url  \n",
              "0  https://www.linkedin.com/jobs/search/?currentJ...  \n",
              "1  https://www.linkedin.com/jobs/search/?currentJ...  \n",
              "2  https://www.linkedin.com/jobs/search/?currentJ...  \n",
              "3  https://www.linkedin.com/jobs/search/?currentJ...  \n",
              "4  https://www.linkedin.com/jobs/search/?currentJ...  "
            ],
            "text/html": [
              "\n",
              "  <div id=\"df-44447b44-74c3-431e-9459-ea118f8883d1\" class=\"colab-df-container\">\n",
              "    <div>\n",
              "<style scoped>\n",
              "    .dataframe tbody tr th:only-of-type {\n",
              "        vertical-align: middle;\n",
              "    }\n",
              "\n",
              "    .dataframe tbody tr th {\n",
              "        vertical-align: top;\n",
              "    }\n",
              "\n",
              "    .dataframe thead th {\n",
              "        text-align: right;\n",
              "    }\n",
              "</style>\n",
              "<table border=\"1\" class=\"dataframe\">\n",
              "  <thead>\n",
              "    <tr style=\"text-align: right;\">\n",
              "      <th></th>\n",
              "      <th>headline</th>\n",
              "      <th>job_title</th>\n",
              "      <th>job_description</th>\n",
              "      <th>url</th>\n",
              "    </tr>\n",
              "  </thead>\n",
              "  <tbody>\n",
              "    <tr>\n",
              "      <th>0</th>\n",
              "      <td>SoStronk · Bengaluru, Karnataka, India · 2 day...</td>\n",
              "      <td>Data Analyst</td>\n",
              "      <td>About the job\\nAbout SoStronk\\nAt SoStronk, we...</td>\n",
              "      <td>https://www.linkedin.com/jobs/search/?currentJ...</td>\n",
              "    </tr>\n",
              "    <tr>\n",
              "      <th>1</th>\n",
              "      <td>Aryng · Bengaluru, Karnataka, India · 2 weeks ...</td>\n",
              "      <td>Data Scientist Analyst</td>\n",
              "      <td>About the job\\nAbout Aryng :\\n\\nAryng is a Dat...</td>\n",
              "      <td>https://www.linkedin.com/jobs/search/?currentJ...</td>\n",
              "    </tr>\n",
              "    <tr>\n",
              "      <th>2</th>\n",
              "      <td>SWASTIK PLACEMENT AGENCY · Ahmedabad, Gujarat,...</td>\n",
              "      <td>Data Analyst</td>\n",
              "      <td>About the job\\nSwastik Placement Agency is cur...</td>\n",
              "      <td>https://www.linkedin.com/jobs/search/?currentJ...</td>\n",
              "    </tr>\n",
              "    <tr>\n",
              "      <th>3</th>\n",
              "      <td>Midtown Software · Chandigarh, India · Reposte...</td>\n",
              "      <td>Data Analyst</td>\n",
              "      <td>About the job\\nThe ideal candidate will use th...</td>\n",
              "      <td>https://www.linkedin.com/jobs/search/?currentJ...</td>\n",
              "    </tr>\n",
              "    <tr>\n",
              "      <th>4</th>\n",
              "      <td>Allica Bank · Bangalore Urban, Karnataka, Indi...</td>\n",
              "      <td>Senior Data Analyst</td>\n",
              "      <td>About the job\\nAbout Allica Bank\\nRecently nam...</td>\n",
              "      <td>https://www.linkedin.com/jobs/search/?currentJ...</td>\n",
              "    </tr>\n",
              "  </tbody>\n",
              "</table>\n",
              "</div>\n",
              "    <div class=\"colab-df-buttons\">\n",
              "\n",
              "  <div class=\"colab-df-container\">\n",
              "    <button class=\"colab-df-convert\" onclick=\"convertToInteractive('df-44447b44-74c3-431e-9459-ea118f8883d1')\"\n",
              "            title=\"Convert this dataframe to an interactive table.\"\n",
              "            style=\"display:none;\">\n",
              "\n",
              "  <svg xmlns=\"http://www.w3.org/2000/svg\" height=\"24px\" viewBox=\"0 -960 960 960\">\n",
              "    <path d=\"M120-120v-720h720v720H120Zm60-500h600v-160H180v160Zm220 220h160v-160H400v160Zm0 220h160v-160H400v160ZM180-400h160v-160H180v160Zm440 0h160v-160H620v160ZM180-180h160v-160H180v160Zm440 0h160v-160H620v160Z\"/>\n",
              "  </svg>\n",
              "    </button>\n",
              "\n",
              "  <style>\n",
              "    .colab-df-container {\n",
              "      display:flex;\n",
              "      gap: 12px;\n",
              "    }\n",
              "\n",
              "    .colab-df-convert {\n",
              "      background-color: #E8F0FE;\n",
              "      border: none;\n",
              "      border-radius: 50%;\n",
              "      cursor: pointer;\n",
              "      display: none;\n",
              "      fill: #1967D2;\n",
              "      height: 32px;\n",
              "      padding: 0 0 0 0;\n",
              "      width: 32px;\n",
              "    }\n",
              "\n",
              "    .colab-df-convert:hover {\n",
              "      background-color: #E2EBFA;\n",
              "      box-shadow: 0px 1px 2px rgba(60, 64, 67, 0.3), 0px 1px 3px 1px rgba(60, 64, 67, 0.15);\n",
              "      fill: #174EA6;\n",
              "    }\n",
              "\n",
              "    .colab-df-buttons div {\n",
              "      margin-bottom: 4px;\n",
              "    }\n",
              "\n",
              "    [theme=dark] .colab-df-convert {\n",
              "      background-color: #3B4455;\n",
              "      fill: #D2E3FC;\n",
              "    }\n",
              "\n",
              "    [theme=dark] .colab-df-convert:hover {\n",
              "      background-color: #434B5C;\n",
              "      box-shadow: 0px 1px 3px 1px rgba(0, 0, 0, 0.15);\n",
              "      filter: drop-shadow(0px 1px 2px rgba(0, 0, 0, 0.3));\n",
              "      fill: #FFFFFF;\n",
              "    }\n",
              "  </style>\n",
              "\n",
              "    <script>\n",
              "      const buttonEl =\n",
              "        document.querySelector('#df-44447b44-74c3-431e-9459-ea118f8883d1 button.colab-df-convert');\n",
              "      buttonEl.style.display =\n",
              "        google.colab.kernel.accessAllowed ? 'block' : 'none';\n",
              "\n",
              "      async function convertToInteractive(key) {\n",
              "        const element = document.querySelector('#df-44447b44-74c3-431e-9459-ea118f8883d1');\n",
              "        const dataTable =\n",
              "          await google.colab.kernel.invokeFunction('convertToInteractive',\n",
              "                                                    [key], {});\n",
              "        if (!dataTable) return;\n",
              "\n",
              "        const docLinkHtml = 'Like what you see? Visit the ' +\n",
              "          '<a target=\"_blank\" href=https://colab.research.google.com/notebooks/data_table.ipynb>data table notebook</a>'\n",
              "          + ' to learn more about interactive tables.';\n",
              "        element.innerHTML = '';\n",
              "        dataTable['output_type'] = 'display_data';\n",
              "        await google.colab.output.renderOutput(dataTable, element);\n",
              "        const docLink = document.createElement('div');\n",
              "        docLink.innerHTML = docLinkHtml;\n",
              "        element.appendChild(docLink);\n",
              "      }\n",
              "    </script>\n",
              "  </div>\n",
              "\n",
              "\n",
              "<div id=\"df-fd2e8834-287f-48ba-b538-80b5eb902062\">\n",
              "  <button class=\"colab-df-quickchart\" onclick=\"quickchart('df-fd2e8834-287f-48ba-b538-80b5eb902062')\"\n",
              "            title=\"Suggest charts\"\n",
              "            style=\"display:none;\">\n",
              "\n",
              "<svg xmlns=\"http://www.w3.org/2000/svg\" height=\"24px\"viewBox=\"0 0 24 24\"\n",
              "     width=\"24px\">\n",
              "    <g>\n",
              "        <path d=\"M19 3H5c-1.1 0-2 .9-2 2v14c0 1.1.9 2 2 2h14c1.1 0 2-.9 2-2V5c0-1.1-.9-2-2-2zM9 17H7v-7h2v7zm4 0h-2V7h2v10zm4 0h-2v-4h2v4z\"/>\n",
              "    </g>\n",
              "</svg>\n",
              "  </button>\n",
              "\n",
              "<style>\n",
              "  .colab-df-quickchart {\n",
              "      --bg-color: #E8F0FE;\n",
              "      --fill-color: #1967D2;\n",
              "      --hover-bg-color: #E2EBFA;\n",
              "      --hover-fill-color: #174EA6;\n",
              "      --disabled-fill-color: #AAA;\n",
              "      --disabled-bg-color: #DDD;\n",
              "  }\n",
              "\n",
              "  [theme=dark] .colab-df-quickchart {\n",
              "      --bg-color: #3B4455;\n",
              "      --fill-color: #D2E3FC;\n",
              "      --hover-bg-color: #434B5C;\n",
              "      --hover-fill-color: #FFFFFF;\n",
              "      --disabled-bg-color: #3B4455;\n",
              "      --disabled-fill-color: #666;\n",
              "  }\n",
              "\n",
              "  .colab-df-quickchart {\n",
              "    background-color: var(--bg-color);\n",
              "    border: none;\n",
              "    border-radius: 50%;\n",
              "    cursor: pointer;\n",
              "    display: none;\n",
              "    fill: var(--fill-color);\n",
              "    height: 32px;\n",
              "    padding: 0;\n",
              "    width: 32px;\n",
              "  }\n",
              "\n",
              "  .colab-df-quickchart:hover {\n",
              "    background-color: var(--hover-bg-color);\n",
              "    box-shadow: 0 1px 2px rgba(60, 64, 67, 0.3), 0 1px 3px 1px rgba(60, 64, 67, 0.15);\n",
              "    fill: var(--button-hover-fill-color);\n",
              "  }\n",
              "\n",
              "  .colab-df-quickchart-complete:disabled,\n",
              "  .colab-df-quickchart-complete:disabled:hover {\n",
              "    background-color: var(--disabled-bg-color);\n",
              "    fill: var(--disabled-fill-color);\n",
              "    box-shadow: none;\n",
              "  }\n",
              "\n",
              "  .colab-df-spinner {\n",
              "    border: 2px solid var(--fill-color);\n",
              "    border-color: transparent;\n",
              "    border-bottom-color: var(--fill-color);\n",
              "    animation:\n",
              "      spin 1s steps(1) infinite;\n",
              "  }\n",
              "\n",
              "  @keyframes spin {\n",
              "    0% {\n",
              "      border-color: transparent;\n",
              "      border-bottom-color: var(--fill-color);\n",
              "      border-left-color: var(--fill-color);\n",
              "    }\n",
              "    20% {\n",
              "      border-color: transparent;\n",
              "      border-left-color: var(--fill-color);\n",
              "      border-top-color: var(--fill-color);\n",
              "    }\n",
              "    30% {\n",
              "      border-color: transparent;\n",
              "      border-left-color: var(--fill-color);\n",
              "      border-top-color: var(--fill-color);\n",
              "      border-right-color: var(--fill-color);\n",
              "    }\n",
              "    40% {\n",
              "      border-color: transparent;\n",
              "      border-right-color: var(--fill-color);\n",
              "      border-top-color: var(--fill-color);\n",
              "    }\n",
              "    60% {\n",
              "      border-color: transparent;\n",
              "      border-right-color: var(--fill-color);\n",
              "    }\n",
              "    80% {\n",
              "      border-color: transparent;\n",
              "      border-right-color: var(--fill-color);\n",
              "      border-bottom-color: var(--fill-color);\n",
              "    }\n",
              "    90% {\n",
              "      border-color: transparent;\n",
              "      border-bottom-color: var(--fill-color);\n",
              "    }\n",
              "  }\n",
              "</style>\n",
              "\n",
              "  <script>\n",
              "    async function quickchart(key) {\n",
              "      const quickchartButtonEl =\n",
              "        document.querySelector('#' + key + ' button');\n",
              "      quickchartButtonEl.disabled = true;  // To prevent multiple clicks.\n",
              "      quickchartButtonEl.classList.add('colab-df-spinner');\n",
              "      try {\n",
              "        const charts = await google.colab.kernel.invokeFunction(\n",
              "            'suggestCharts', [key], {});\n",
              "      } catch (error) {\n",
              "        console.error('Error during call to suggestCharts:', error);\n",
              "      }\n",
              "      quickchartButtonEl.classList.remove('colab-df-spinner');\n",
              "      quickchartButtonEl.classList.add('colab-df-quickchart-complete');\n",
              "    }\n",
              "    (() => {\n",
              "      let quickchartButtonEl =\n",
              "        document.querySelector('#df-fd2e8834-287f-48ba-b538-80b5eb902062 button');\n",
              "      quickchartButtonEl.style.display =\n",
              "        google.colab.kernel.accessAllowed ? 'block' : 'none';\n",
              "    })();\n",
              "  </script>\n",
              "</div>\n",
              "\n",
              "    </div>\n",
              "  </div>\n"
            ],
            "application/vnd.google.colaboratory.intrinsic+json": {
              "type": "dataframe",
              "variable_name": "df",
              "summary": "{\n  \"name\": \"df\",\n  \"rows\": 17,\n  \"fields\": [\n    {\n      \"column\": \"headline\",\n      \"properties\": {\n        \"dtype\": \"string\",\n        \"num_unique_values\": 12,\n        \"samples\": [\n          \"First Advantage \\u00b7 Bengaluru, Karnataka, India \\u00b7 2 days ago \\u00b7 Over 100 applicants\",\n          \"Super Scholar \\u00b7 Delhi, India \\u00b7 4 weeks ago\",\n          \"SoStronk \\u00b7 Bengaluru, Karnataka, India \\u00b7 2 days ago\"\n        ],\n        \"semantic_type\": \"\",\n        \"description\": \"\"\n      }\n    },\n    {\n      \"column\": \"job_title\",\n      \"properties\": {\n        \"dtype\": \"category\",\n        \"num_unique_values\": 5,\n        \"samples\": [\n          \"Data Scientist Analyst\",\n          \"Associate Business Metrics Analyst \\u2013 (Metrics & Analytics) - Bangalore (Q2-24))\",\n          \"Senior Data Analyst\"\n        ],\n        \"semantic_type\": \"\",\n        \"description\": \"\"\n      }\n    },\n    {\n      \"column\": \"job_description\",\n      \"properties\": {\n        \"dtype\": \"string\",\n        \"num_unique_values\": 12,\n        \"samples\": [\n          \"About the job\\nPosition Summary:\\n\\nAs an integral member of planning team, the Associate Business Metrics Analyst is responsible for the design, development, implementation, and support of mission-critical enterprise Business Intelligence (BI) reports, Excel Reports, and other tools working with cross-functional teams.\\n\\nEssential Roles and Responsibilities:\\n\\nParticipate in business analysis activities to gather required reporting and dashboard requirements\\nTranslate business requirements into specifications that will be used to implement the required reports and dashboards, created from potentially multiple data sources\\nParticipate with other specialist to convert legacy reports to BI solutions or central reporting system.\\nTransition developed reports and dashboards to the Operations & Support team.\\nProvide support as required to ensure the availability and performance of developed reports and dashboards for all users.\\nProvide technical assistance and cross training to other team members.\\nProvide training and assistance to users for generation of Ad hoc reports.\\nDesign and implement technology best practices, guidelines and repeatable processes.\\nMust be able to perform duties with moderate to low supervision.\\nTimeline and accuracy of reports to be maintained all the time.\\n\\nKnowledge, Skills, Abilities or Certifications required:\\n\\nImplementing enterprise-scale reports and dashboards\\nProficient with MS Office Applications like Excel, Access etc. and being able to design reports and tools with VBA macros.\\nKnowledge of logical and physical data modeling concepts (relational and dimensional)\\nPerformance tuning experience related to reporting queries required\\nUnderstanding of data integration issues (validation and cleaning), familiarity with complex data and structures\\nExcellent interpersonal (verbal and written) communication skills are required to support working in project environments that includes internal, external and customer teams\\nRequires strong analytical, conceptual, and problem-solving abilities\\nAbility to manage multiple priorities, and assess and adjust quickly to changing priorities\\nRequires leadership qualities to mentor junior members of the team.\\n\\nExperience: At least 4+ years of experience.\\n\\nUnited States Equal Opportunity Employment:\\n\\nFirst Advantage is proud to be a global leader in removing barriers and supporting our community members to ensure the changing demographics of the workforce are reflected in our hiring and employment practices. We value all of our candidates, employees, and clients, and place great emphasis on hiring and supporting qualified individuals in each role. We are an equal opportunity employer. We do not discriminate on the basis of race, color, ethnicity, ancestry, religion, sex, national origin, sexual orientation, age, citizenship status, marital status, disability, gender identity, gender expression, veteran status, genetic information, or any other area protected by applicable law.\",\n          \"About the job\\nThe Data Analyst is an office-based role that involves managing operations using spreadsheets for top management and the company.\\n\\nWho is this for?\\n\\nAll graduates\\nMust be relocating to Mumbai or Delhi NCR\\nBasic English communication skills\\nIntermediate to Advanced Excel/Google Sheets\\nJob specific training will be provided. No prior experience required.\\n\\nKey Features\\n\\nCorporate office based job\\nWork directly with the top management in the Managing Director\\u2019s Office\\nRapid career growth\\nNot a target based role\\nNot a field sales/telecalling/BPO role\\nAbove market CTC with great perks\\n\\nRoles & Responsibilities\\n\\nCreating systems using Google Sheets/Excel\\nData collection and management\\nData analysis\\nBuilding backend operations using Google Sheets/Excel\\nWorking with the Managing Director/CEO to build systems\\n\\nPlease read the above description in detail and apply to this role if you fit all the criteria. We look forward to speaking with you shortly.\\n\\nSkills: excel,google sheets,office,data,operations,management\",\n          \"About the job\\nAbout SoStronk\\nAt SoStronk, we are a dynamic team of 35+ gamers, storytellers, engineers, designers, and innovators, revolutionizing the gaming and esports sector. We have built market-leading platforms for over 5 years, and now, with our latest real money gaming mobile app - SoStronk, we're aiming for explosive growth. Backed by prominent investors like Dream11 and Nodwin Gaming, we are on a journey to create a ground-breaking social gaming platform.\\n\\nWho We're Looking For\\nWe\\u2019re on the lookout for a passionate and experienced Data Analyst, who is looking for a challenging role and delivery value based on their years of experience in the field. Your role will involve harnessing the power of data to inform decision-making across our product, operations, and finance teams, enabling us to achieve our ambitious objectives. If you are someone who loves data, enjoys working iteratively, and knows when to dream big and disrupt, we would like to hear from you.\\n\\nResponsibilities\\nIn this role, you will be expected to\\nTechnical Responsibilities\\nDevelop and manage interactive dashboards and reports in Looker Studio.\\nWrite, optimize, and execute complex SQL queries/data models.\\nMaintain and enhance our data pipelines in Google Cloud Platform (GCP) (i.e BigQuery).\\nEnsure data integrity by validating and testing data.\\nLeverage Python for data manipulation and automation tasks.\\n\\nStrategic Responsibilities\\nClosely support Founders, Product team and other teams with both ad hoc and planned analyses.\\nTo leverage data and help strategize/recommend and back the product roadmap to ensure scale goals are met.\\nUnderstand and implement data flows to connect operational systems, data for analytics, and BI systems.\\nMonitor and drive key performance indicators (KPIs).\\nCollaborate closely with the development team to ensure correct data instrumentation. \\nSuccessful performance in this role will be marked by the quality of insights derived from data, the effectiveness of data visualization, and the positive impact on a company's strategic decisions.\\n\\nQualifications\\n4-8 years of experience as a Data Engineer or Data Analyst or Sr. Data Analyst role.\\nStrong SQL skills (Experience with writing optimized SQL / Window functions / Partitioning).\\nExperience with Google Cloud Platform (GCP), specifically BigQuery.\\nExperience with data integration and analytics tools like Amplitude / Mixpanel / Google Analytics / Clevertap etc.\\nExperience with BI, data visualization and reporting tools like Google Looker Studio / Power BI / Tableau.\\nExcellent communication and presentation skills.\\nPreferred proficiency with Python programming language.\\nPreferred experience in the Esports/Online & Mobile Gaming industry.\\n\\nTeam Interaction\\nIn this role, you will be working directly with our founding team, product, finance, and operations teams, and will collaborate closely with our development team during sprints.\\n\\nWhat You'll Get\\nAt SoStronk, you'll be part of a team that values collaboration, creativity, and personal growth. We offer competitive compensation, a comprehensive benefits package, and opportunities for professional development. You'll also enjoy a vibrant work culture that encourages innovation and rewards hard work.\\n\\nJoin us today and let's shape the future of gaming together!\"\n        ],\n        \"semantic_type\": \"\",\n        \"description\": \"\"\n      }\n    },\n    {\n      \"column\": \"url\",\n      \"properties\": {\n        \"dtype\": \"string\",\n        \"num_unique_values\": 13,\n        \"samples\": [\n          \"https://www.linkedin.com/jobs/search/?currentJobId=3904816668&f_AL=true&f_TPR=r2592000&keywords=Data%20Analyst&origin=JOB_SEARCH_PAGE_JOB_FILTER&start=100\",\n          \"https://www.linkedin.com/jobs/search/?currentJobId=3891684479&f_AL=true&f_TPR=r2592000&keywords=Data%20Analyst&origin=JOB_SEARCH_PAGE_JOB_FILTER\",\n          \"https://www.linkedin.com/jobs/search/?currentJobId=3901325811&f_AL=true&f_TPR=r2592000&keywords=Data%20Analyst&origin=JOB_SEARCH_PAGE_JOB_FILTER&start=25\"\n        ],\n        \"semantic_type\": \"\",\n        \"description\": \"\"\n      }\n    }\n  ]\n}"
            }
          },
          "metadata": {},
          "execution_count": 9
        }
      ]
    },
    {
      "cell_type": "code",
      "source": [
        "genai.configure(api_key=api_key)"
      ],
      "metadata": {
        "id": "TbgcnRhpYEBH"
      },
      "execution_count": 11,
      "outputs": []
    },
    {
      "cell_type": "code",
      "source": [
        "model = genai.GenerativeModel('gemini-pro')\n",
        "#response=model.generate_content([resume_text,job_des,input_prompt1])"
      ],
      "metadata": {
        "id": "QhkGLH4ic4Ft"
      },
      "execution_count": 12,
      "outputs": []
    },
    {
      "cell_type": "code",
      "source": [
        "job_description=df['job_description']"
      ],
      "metadata": {
        "id": "MxlPlro1GMjd"
      },
      "execution_count": 31,
      "outputs": []
    },
    {
      "cell_type": "code",
      "source": [
        "responses=[]\n",
        "for i in job_description:\n",
        "    response=model.generate_content([resume_text,i,input_prompt1])\n",
        "    responses.append(response.text)\n",
        ""
      ],
      "metadata": {
        "id": "vVnSixdGGIpV"
      },
      "execution_count": 32,
      "outputs": []
    },
    {
      "cell_type": "code",
      "source": [
        "print(responses[0])"
      ],
      "metadata": {
        "colab": {
          "base_uri": "https://localhost:8080/"
        },
        "id": "7m_ULlRwGvnX",
        "outputId": "15d863b5-9912-4e29-e985-2c20f1aef742"
      },
      "execution_count": 34,
      "outputs": [
        {
          "output_type": "stream",
          "name": "stdout",
          "text": [
            "{\n",
            " \"Evaluation\": {\n",
            "  \"Strengths\": [\n",
            "   \"The candidate has a strong technical background with experience in Python, R, MS Excel, Power BI, Tableau, SQL, and PostgreSQL.\",\n",
            "   \"The candidate has experience in project management and is familiar with industry standards like CRISP-DM, Scrum, Kanban.\",\n",
            "   \"The candidate has a proven ability to complete projects proactively and seek feedback.\",\n",
            "   \"The candidate has experience in automating business processes using historical data.\",\n",
            "   \"The candidate has a bachelor's degree in business administration and a PG diploma in data science.\"\n",
            "  ],\n",
            "  \"Weaknesses\": [\n",
            "   \"The candidate does not have any direct experience in the Esports/Online & Mobile Gaming industry.\",\n",
            "   \"The candidate does not have any experience with data integration and analytics tools like Amplitude / Mixpanel / Google Analytics / Clevertap etc.\",\n",
            "   \"The candidate does not have any experience with BI, data visualization and reporting tools like Google Looker Studio / Power BI / Tableau.\"\n",
            "  ]\n",
            " },\n",
            " \"Resume_Job_Match_Percentage\": \"70%\",\n",
            " \"Keywords_Missing\": [\n",
            "  \"Experience with data integration and analytics tools like Amplitude / Mixpanel / Google Analytics / Clevertap etc.\",\n",
            "  \"Experience with BI, data visualization and reporting tools like Google Looker Studio / Power BI / Tableau.\",\n",
            "  \"Experience in the Esports/Online & Mobile Gaming industry.\"\n",
            " ],\n",
            " \"Final_Thoughts\": \"The candidate has a strong technical background and experience in project management. However, the candidate does not have any direct experience in the Esports/Online & Mobile Gaming industry or with data integration and analytics tools like Amplitude / Mixpanel / Google Analytics / Clevertap etc. or with BI, data visualization and reporting tools like Google Looker Studio / Power BI / Tableau. Overall, the candidate's resume is a good match for the job description, but there are some areas where the candidate could improve their qualifications.\",\n",
            " \"Chances_of_being_shortlisted\": \"7/10\"\n",
            "}\n"
          ]
        }
      ]
    },
    {
      "cell_type": "code",
      "source": [
        "df['Evaluation']=responses"
      ],
      "metadata": {
        "id": "PIHuPXNFI65p"
      },
      "execution_count": 35,
      "outputs": []
    },
    {
      "cell_type": "code",
      "source": [
        "df.to_csv(\"applied_jobs_report.csv\",header=True,index=False)"
      ],
      "metadata": {
        "id": "jfRZ4UNrGjif"
      },
      "execution_count": 36,
      "outputs": []
    },
    {
      "cell_type": "code",
      "source": [
        "from IPython.display import display\n",
        "from IPython.display import Markdown\n",
        "import pathlib\n",
        "import textwrap\n",
        "\n",
        "def to_markdown(text):\n",
        "  text = text.replace('•', '  *')\n",
        "  return Markdown(textwrap.indent(text, '> ', predicate=lambda _: True))"
      ],
      "metadata": {
        "id": "jFLwX4OVfHrx"
      },
      "execution_count": 26,
      "outputs": []
    },
    {
      "cell_type": "code",
      "source": [
        "to_markdown(response.text)"
      ],
      "metadata": {
        "colab": {
          "base_uri": "https://localhost:8080/",
          "height": 505
        },
        "id": "Q2VkZCz6eywu",
        "outputId": "6ed9becb-6859-4809-f55c-78bd4bddb8b3"
      },
      "execution_count": null,
      "outputs": [
        {
          "output_type": "execute_result",
          "data": {
            "text/plain": [
              "<IPython.core.display.Markdown object>"
            ],
            "text/markdown": "> **Evaluation:**\n> \n> ```\n> {\n>   \"Match_Percentage\": 60,\n>   \"Strengths\": [\n>     \"Pg diploma in Data Science\",\n>     \"Bachelor's degree in Business\",\n>     \"Experience in using Python, R, MS Excel, Power BI & Tableau, SQL & PostreSQL, ML Algorithms & Statistical tests\",\n>     \"Knowledge in industry- standards like CRISP-DM, Scrum, Kanban for DS projects\",\n>     \"Agile project execution strategy\"\n>   ],\n>   \"Weaknesses\": [\n>     \"Less than 7 years of experience in data science\",\n>     \"No experience in managing a team of data scientists\",\n>     \"No experience in developing and implementing data science solutions\",\n>     \"No experience in working with large-scale data sets\"\n>   ],\n>   \"Keywords_Missing\": [\n>     \"Data mining\",\n>     \"Machine learning\",\n>     \"Big data\",\n>     \"Cloud computing\",\n>     \"Artificial intelligence\"\n>   ],\n>   \"Final_Thoughts\": \"The candidate has a strong academic background and technical skills, but lacks the experience and leadership skills required for this role. With additional experience and training, the candidate may be a good fit for a more junior-level data science role.\"\n> }\n> ```"
          },
          "metadata": {},
          "execution_count": 25
        }
      ]
    },
    {
      "cell_type": "code",
      "source": [],
      "metadata": {
        "id": "kx1M6Ugic750"
      },
      "execution_count": null,
      "outputs": []
    },
    {
      "cell_type": "code",
      "source": [],
      "metadata": {
        "id": "sS9-uAfRdavR"
      },
      "execution_count": null,
      "outputs": []
    }
  ]
}