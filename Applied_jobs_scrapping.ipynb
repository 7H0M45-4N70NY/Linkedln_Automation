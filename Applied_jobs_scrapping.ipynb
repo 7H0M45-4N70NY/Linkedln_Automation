{
 "cells": [
  {
   "cell_type": "code",
   "execution_count": 2,
   "id": "c9425a08",
   "metadata": {},
   "outputs": [],
   "source": [
    "import pandas as pd\n",
    "import requests\n",
    "from bs4 import BeautifulSoup\n",
    "from selenium import webdriver\n",
    "from selenium.webdriver.chrome.service import Service\n",
    "from selenium.webdriver.common.by import By\n",
    "from selenium.webdriver import Keys, ActionChains\n",
    "import time\n",
    "from selenium.webdriver.support.ui import WebDriverWait"
   ]
  },
  {
   "cell_type": "code",
   "execution_count": 2,
   "id": "910172c3",
   "metadata": {},
   "outputs": [
    {
     "data": {
      "text/html": [
       "<div>\n",
       "<style scoped>\n",
       "    .dataframe tbody tr th:only-of-type {\n",
       "        vertical-align: middle;\n",
       "    }\n",
       "\n",
       "    .dataframe tbody tr th {\n",
       "        vertical-align: top;\n",
       "    }\n",
       "\n",
       "    .dataframe thead th {\n",
       "        text-align: right;\n",
       "    }\n",
       "</style>\n",
       "<table border=\"1\" class=\"dataframe\">\n",
       "  <thead>\n",
       "    <tr style=\"text-align: right;\">\n",
       "      <th></th>\n",
       "      <th>Unnamed: 0</th>\n",
       "      <th>applyied_job_links</th>\n",
       "    </tr>\n",
       "  </thead>\n",
       "  <tbody>\n",
       "    <tr>\n",
       "      <th>0</th>\n",
       "      <td>0</td>\n",
       "      <td>https://www.linkedin.com/jobs/search/?currentJ...</td>\n",
       "    </tr>\n",
       "    <tr>\n",
       "      <th>1</th>\n",
       "      <td>1</td>\n",
       "      <td>https://www.linkedin.com/jobs/search/?currentJ...</td>\n",
       "    </tr>\n",
       "    <tr>\n",
       "      <th>2</th>\n",
       "      <td>2</td>\n",
       "      <td>https://www.linkedin.com/jobs/search/?currentJ...</td>\n",
       "    </tr>\n",
       "    <tr>\n",
       "      <th>3</th>\n",
       "      <td>3</td>\n",
       "      <td>https://www.linkedin.com/jobs/search/?currentJ...</td>\n",
       "    </tr>\n",
       "    <tr>\n",
       "      <th>4</th>\n",
       "      <td>4</td>\n",
       "      <td>https://www.linkedin.com/jobs/search/?currentJ...</td>\n",
       "    </tr>\n",
       "  </tbody>\n",
       "</table>\n",
       "</div>"
      ],
      "text/plain": [
       "   Unnamed: 0                                 applyied_job_links\n",
       "0           0  https://www.linkedin.com/jobs/search/?currentJ...\n",
       "1           1  https://www.linkedin.com/jobs/search/?currentJ...\n",
       "2           2  https://www.linkedin.com/jobs/search/?currentJ...\n",
       "3           3  https://www.linkedin.com/jobs/search/?currentJ...\n",
       "4           4  https://www.linkedin.com/jobs/search/?currentJ..."
      ]
     },
     "execution_count": 2,
     "metadata": {},
     "output_type": "execute_result"
    }
   ],
   "source": [
    "applied_jobs1=pd.read_csv(r\"C:\\Users\\thoma\\Desktop\\scrapped_data\\Applied_jobs\\applied_jobs.csv\")\n",
    "applied_jobs2=pd.read_csv(r\"C:\\Users\\thoma\\Desktop\\scrapped_data\\Applied_jobs\\applied_jobs2.csv\")\n",
    "applied_jobs3=pd.read_csv(r\"C:\\Users\\thoma\\Desktop\\scrapped_data\\Applied_jobs\\applied_jobs3.csv\")\n",
    "applied_jobs1.head()"
   ]
  },
  {
   "cell_type": "code",
   "execution_count": 3,
   "id": "32b797e4",
   "metadata": {},
   "outputs": [],
   "source": [
    "applied_jobs_list=pd.concat([applied_jobs1.iloc[:,-1],applied_jobs2.iloc[:,-1],applied_jobs3.iloc[:,-1]],axis=0)"
   ]
  },
  {
   "cell_type": "code",
   "execution_count": 4,
   "id": "17f76a6f",
   "metadata": {},
   "outputs": [],
   "source": [
    "applied_jobs_list=list(set(applied_jobs_list))"
   ]
  },
  {
   "cell_type": "code",
   "execution_count": 19,
   "id": "40042360",
   "metadata": {},
   "outputs": [],
   "source": [
    "driver=webdriver.Chrome()"
   ]
  },
  {
   "cell_type": "code",
   "execution_count": 20,
   "id": "adf765b9",
   "metadata": {},
   "outputs": [],
   "source": [
    "driver.get(\"https://in.linkedin.com\")"
   ]
  },
  {
   "cell_type": "code",
   "execution_count": 4,
   "id": "6736c471",
   "metadata": {},
   "outputs": [],
   "source": [
    "email=\"thomasantony14@gmail.com\"\n",
    "password=\"##\"\n",
    "phone=\"###\""
   ]
  },
  {
   "cell_type": "code",
   "execution_count": 22,
   "id": "9787bf69",
   "metadata": {},
   "outputs": [],
   "source": [
    "email=driver.find_element(By.XPATH,\"\"\"/html/body/main/section[1]/div/div/form/div[1]/div[1]/div/div/input\"\"\").send_keys(email)\n",
    "password=driver.find_element(By.XPATH,\"\"\"/html/body/main/section[1]/div/div/form/div[1]/div[2]/div/div/input\"\"\").send_keys(password)\n",
    "driver.find_element(By.XPATH,\"\"\"/html/body/main/section[1]/div/div/form/div[2]/button\"\"\").click()\n",
    "time.sleep(5)"
   ]
  },
  {
   "cell_type": "code",
   "execution_count": 23,
   "id": "b3ca5f27",
   "metadata": {},
   "outputs": [],
   "source": [
    "time.sleep(5)\n",
    "driver.get(applied_jobs_list[0])"
   ]
  },
  {
   "cell_type": "code",
   "execution_count": 24,
   "id": "ba86012d",
   "metadata": {},
   "outputs": [
    {
     "data": {
      "text/plain": [
       "'Data Analyst'"
      ]
     },
     "execution_count": 24,
     "metadata": {},
     "output_type": "execute_result"
    }
   ],
   "source": [
    "job_title=driver.find_element(By.CLASS_NAME,\"t-24\").text\n",
    "job_title"
   ]
  },
  {
   "cell_type": "code",
   "execution_count": 25,
   "id": "0a355e15",
   "metadata": {},
   "outputs": [
    {
     "data": {
      "text/plain": [
       "'SoStronk · Bengaluru, Karnataka, India · 2 days ago'"
      ]
     },
     "execution_count": 25,
     "metadata": {},
     "output_type": "execute_result"
    }
   ],
   "source": [
    "headline=driver.find_element(By.XPATH,\"\"\"/html/body/div[5]/div[3]/div[4]/div/div/main/div/div[2]/div[2]/div/div[2]/div/div[1]/div/div[1]/div/div[1]/div[1]/div[2]/div\"\"\").text\n",
    "headline"
   ]
  },
  {
   "cell_type": "code",
   "execution_count": 26,
   "id": "1b3c52e0",
   "metadata": {},
   "outputs": [
    {
     "data": {
      "text/plain": [
       "('SoStronk ', ' Bengaluru', ' Karnataka', ' India ', ' 2 days ago')"
      ]
     },
     "execution_count": 26,
     "metadata": {},
     "output_type": "execute_result"
    }
   ],
   "source": [
    "company,state,country,posted_days_ago,no_of_applicants=headline.replace(\"·\",\",\").split(\",\")\n",
    "company,state,country,posted_days_ago,no_of_applicants"
   ]
  },
  {
   "cell_type": "code",
   "execution_count": 29,
   "id": "a64840ab",
   "metadata": {
    "scrolled": true
   },
   "outputs": [
    {
     "data": {
      "text/plain": [
       "\"About the job\\nAbout SoStronk\\nAt SoStronk, we are a dynamic team of 35+ gamers, storytellers, engineers, designers, and innovators, revolutionizing the gaming and esports sector. We have built market-leading platforms for over 5 years, and now, with our latest real money gaming mobile app - SoStronk, we're aiming for explosive growth. Backed by prominent investors like Dream11 and Nodwin Gaming, we are on a journey to create a ground-breaking social gaming platform.\\n\\nWho We're Looking For\\nWe’re on the lookout for a passionate and experienced Data Analyst, who is looking for a challenging role and delivery value based on their years of experience in the field. Your role will involve harnessing the power of data to inform decision-making across our product, operations, and finance teams, enabling us to achieve our ambitious objectives. If you are someone who loves data, enjoys working iteratively, and knows when to dream big and disrupt, we would like to hear from you.\\n\\nResponsibilities\\nIn this role, you will be expected to\\nTechnical Responsibilities\\nDevelop and manage interactive dashboards and reports in Looker Studio.\\nWrite, optimize, and execute complex SQL queries/data models.\\nMaintain and enhance our data pipelines in Google Cloud Platform (GCP) (i.e BigQuery).\\nEnsure data integrity by validating and testing data.\\nLeverage Python for data manipulation and automation tasks.\\n\\nStrategic Responsibilities\\nClosely support Founders, Product team and other teams with both ad hoc and planned analyses.\\nTo leverage data and help strategize/recommend and back the product roadmap to ensure scale goals are met.\\nUnderstand and implement data flows to connect operational systems, data for analytics, and BI systems.\\nMonitor and drive key performance indicators (KPIs).\\nCollaborate closely with the development team to ensure correct data instrumentation. \\nSuccessful performance in this role will be marked by the quality of insights derived from data, the effectiveness of data visualization, and the positive impact on a company's strategic decisions.\\n\\nQualifications\\n4-8 years of experience as a Data Engineer or Data Analyst or Sr. Data Analyst role.\\nStrong SQL skills (Experience with writing optimized SQL / Window functions / Partitioning).\\nExperience with Google Cloud Platform (GCP), specifically BigQuery.\\nExperience with data integration and analytics tools like Amplitude / Mixpanel / Google Analytics / Clevertap etc.\\nExperience with BI, data visualization and reporting tools like Google Looker Studio / Power BI / Tableau.\\nExcellent communication and presentation skills.\\nPreferred proficiency with Python programming language.\\nPreferred experience in the Esports/Online & Mobile Gaming industry.\\n\\nTeam Interaction\\nIn this role, you will be working directly with our founding team, product, finance, and operations teams, and will collaborate closely with our development team during sprints.\\n\\nWhat You'll Get\\nAt SoStronk, you'll be part of a team that values collaboration, creativity, and personal growth. We offer competitive compensation, a comprehensive benefits package, and opportunities for professional development. You'll also enjoy a vibrant work culture that encourages innovation and rewards hard work.\\n\\nJoin us today and let's shape the future of gaming together!\""
      ]
     },
     "execution_count": 29,
     "metadata": {},
     "output_type": "execute_result"
    }
   ],
   "source": [
    "job_description=driver.find_element(By.ID,\"job-details\").text\n",
    "job_description"
   ]
  },
  {
   "cell_type": "code",
   "execution_count": null,
   "id": "982af5a9",
   "metadata": {},
   "outputs": [],
   "source": [
    "headline=[]\n",
    "job_title=[]\n",
    "job_description=[]\n",
    "url=[]"
   ]
  },
  {
   "cell_type": "code",
   "execution_count": 33,
   "id": "04daa9ae",
   "metadata": {},
   "outputs": [
    {
     "data": {
      "text/plain": [
       "['SoStronk · Bengaluru, Karnataka, India · 2 days ago',\n",
       " 'Aryng · Bengaluru, Karnataka, India · 2 weeks ago · Over 100 applicants',\n",
       " 'SWASTIK PLACEMENT AGENCY · Ahmedabad, Gujarat, India · 4 days ago · Over 100 applicants']"
      ]
     },
     "execution_count": 33,
     "metadata": {},
     "output_type": "execute_result"
    }
   ],
   "source": [
    "headline"
   ]
  },
  {
   "cell_type": "code",
   "execution_count": 39,
   "id": "b1408b00",
   "metadata": {
    "scrolled": false
   },
   "outputs": [
    {
     "name": "stdout",
     "output_type": "stream",
     "text": [
      "True\n",
      "True\n",
      "True\n",
      "True\n",
      "True\n",
      "True\n",
      "True\n",
      "True\n",
      "True\n",
      "True\n"
     ]
    }
   ],
   "source": [
    "for i in applied_jobs_list[3:]:\n",
    "    driver.get(i)\n",
    "    wait = WebDriverWait(driver, 10)\n",
    "    time.sleep(10)\n",
    "    try:\n",
    "        job_title.append(driver.find_element(By.CLASS_NAME,\"t-24\").text)\n",
    "        headline.append(driver.find_element(By.CLASS_NAME,\"job-details-jobs-unified-top-card__primary-description-container\").text)\n",
    "        job_description.append(driver.find_element(By.ID,\"job-details\").text)\n",
    "        url.append(driver.current_url)\n",
    "        print(driver.current_url==i)  \n",
    "    except:\n",
    "        continue"
   ]
  },
  {
   "cell_type": "code",
   "execution_count": 42,
   "id": "b3032d82",
   "metadata": {},
   "outputs": [
    {
     "data": {
      "text/plain": [
       "'Data Analyst'"
      ]
     },
     "execution_count": 42,
     "metadata": {},
     "output_type": "execute_result"
    }
   ],
   "source": [
    "job_title.pop()"
   ]
  },
  {
   "cell_type": "code",
   "execution_count": 41,
   "id": "a2ec2da3",
   "metadata": {},
   "outputs": [
    {
     "data": {
      "text/plain": [
       "(17, 18, 17, 17)"
      ]
     },
     "execution_count": 41,
     "metadata": {},
     "output_type": "execute_result"
    }
   ],
   "source": [
    "len(headline),len(job_title),len(job_description),len(url)"
   ]
  },
  {
   "cell_type": "code",
   "execution_count": 43,
   "id": "abe2c044",
   "metadata": {},
   "outputs": [],
   "source": [
    "df=pd.DataFrame({\"headline\":headline,\"job_title\":job_title,\"job_description\":job_description,\"url\":url})"
   ]
  },
  {
   "cell_type": "code",
   "execution_count": 45,
   "id": "e3573959",
   "metadata": {},
   "outputs": [],
   "source": [
    "df.to_csv(r\"C:\\Users\\thoma\\Desktop\\applied_jobs.csv\",header=True,index=False)"
   ]
  },
  {
   "cell_type": "code",
   "execution_count": 9,
   "id": "6c70ae2c",
   "metadata": {},
   "outputs": [
    {
     "data": {
      "text/html": [
       "<div>\n",
       "<style scoped>\n",
       "    .dataframe tbody tr th:only-of-type {\n",
       "        vertical-align: middle;\n",
       "    }\n",
       "\n",
       "    .dataframe tbody tr th {\n",
       "        vertical-align: top;\n",
       "    }\n",
       "\n",
       "    .dataframe thead th {\n",
       "        text-align: right;\n",
       "    }\n",
       "</style>\n",
       "<table border=\"1\" class=\"dataframe\">\n",
       "  <thead>\n",
       "    <tr style=\"text-align: right;\">\n",
       "      <th></th>\n",
       "      <th>headline</th>\n",
       "      <th>job_title</th>\n",
       "      <th>job_description</th>\n",
       "      <th>url</th>\n",
       "    </tr>\n",
       "  </thead>\n",
       "  <tbody>\n",
       "    <tr>\n",
       "      <th>0</th>\n",
       "      <td>SoStronk · Bengaluru, Karnataka, India · 2 day...</td>\n",
       "      <td>Data Analyst</td>\n",
       "      <td>About the job\\nAbout SoStronk\\nAt SoStronk, we...</td>\n",
       "      <td>https://www.linkedin.com/jobs/search/?currentJ...</td>\n",
       "    </tr>\n",
       "    <tr>\n",
       "      <th>1</th>\n",
       "      <td>Aryng · Bengaluru, Karnataka, India · 2 weeks ...</td>\n",
       "      <td>Data Scientist Analyst</td>\n",
       "      <td>About the job\\nAbout Aryng :\\n\\nAryng is a Dat...</td>\n",
       "      <td>https://www.linkedin.com/jobs/search/?currentJ...</td>\n",
       "    </tr>\n",
       "    <tr>\n",
       "      <th>2</th>\n",
       "      <td>SWASTIK PLACEMENT AGENCY · Ahmedabad, Gujarat,...</td>\n",
       "      <td>Data Analyst</td>\n",
       "      <td>About the job\\nSwastik Placement Agency is cur...</td>\n",
       "      <td>https://www.linkedin.com/jobs/search/?currentJ...</td>\n",
       "    </tr>\n",
       "    <tr>\n",
       "      <th>3</th>\n",
       "      <td>Midtown Software · Chandigarh, India · Reposte...</td>\n",
       "      <td>Data Analyst</td>\n",
       "      <td>About the job\\nThe ideal candidate will use th...</td>\n",
       "      <td>https://www.linkedin.com/jobs/search/?currentJ...</td>\n",
       "    </tr>\n",
       "    <tr>\n",
       "      <th>4</th>\n",
       "      <td>Allica Bank · Bangalore Urban, Karnataka, Indi...</td>\n",
       "      <td>Senior Data Analyst</td>\n",
       "      <td>About the job\\nAbout Allica Bank\\nRecently nam...</td>\n",
       "      <td>https://www.linkedin.com/jobs/search/?currentJ...</td>\n",
       "    </tr>\n",
       "  </tbody>\n",
       "</table>\n",
       "</div>"
      ],
      "text/plain": [
       "                                            headline               job_title  \\\n",
       "0  SoStronk · Bengaluru, Karnataka, India · 2 day...            Data Analyst   \n",
       "1  Aryng · Bengaluru, Karnataka, India · 2 weeks ...  Data Scientist Analyst   \n",
       "2  SWASTIK PLACEMENT AGENCY · Ahmedabad, Gujarat,...            Data Analyst   \n",
       "3  Midtown Software · Chandigarh, India · Reposte...            Data Analyst   \n",
       "4  Allica Bank · Bangalore Urban, Karnataka, Indi...     Senior Data Analyst   \n",
       "\n",
       "                                     job_description  \\\n",
       "0  About the job\\nAbout SoStronk\\nAt SoStronk, we...   \n",
       "1  About the job\\nAbout Aryng :\\n\\nAryng is a Dat...   \n",
       "2  About the job\\nSwastik Placement Agency is cur...   \n",
       "3  About the job\\nThe ideal candidate will use th...   \n",
       "4  About the job\\nAbout Allica Bank\\nRecently nam...   \n",
       "\n",
       "                                                 url  \n",
       "0  https://www.linkedin.com/jobs/search/?currentJ...  \n",
       "1  https://www.linkedin.com/jobs/search/?currentJ...  \n",
       "2  https://www.linkedin.com/jobs/search/?currentJ...  \n",
       "3  https://www.linkedin.com/jobs/search/?currentJ...  \n",
       "4  https://www.linkedin.com/jobs/search/?currentJ...  "
      ]
     },
     "execution_count": 9,
     "metadata": {},
     "output_type": "execute_result"
    }
   ],
   "source": [
    "import pandas as pd\n",
    "df=pd.read_csv(r\"C:\\Users\\thoma\\Desktop\\applied_jobs.csv\")\n",
    "df.head()"
   ]
  },
  {
   "cell_type": "code",
   "execution_count": null,
   "id": "1617b931",
   "metadata": {},
   "outputs": [],
   "source": [
    "responses=[]\n",
    "for i in job_description:\n",
    "    response=model.generate_content([resume_text,job_des,input_prompt1])\n",
    "    responses.append(response)\n",
    "    "
   ]
  },
  {
   "cell_type": "code",
   "execution_count": null,
   "id": "2002c12f",
   "metadata": {},
   "outputs": [],
   "source": []
  },
  {
   "cell_type": "code",
   "execution_count": null,
   "id": "0c0fae3d",
   "metadata": {},
   "outputs": [],
   "source": []
  },
  {
   "cell_type": "code",
   "execution_count": null,
   "id": "f0b319e4",
   "metadata": {},
   "outputs": [],
   "source": []
  },
  {
   "cell_type": "code",
   "execution_count": null,
   "id": "4a8484d0",
   "metadata": {},
   "outputs": [],
   "source": [
    "df=pd.DataFrame(table)"
   ]
  },
  {
   "cell_type": "code",
   "execution_count": null,
   "id": "2083247e",
   "metadata": {},
   "outputs": [],
   "source": [
    "df.head()"
   ]
  },
  {
   "cell_type": "markdown",
   "id": "83d009a3",
   "metadata": {},
   "source": [
    "job_qualification=driver.find_element(By.CLASS_NAME,\"mv5\")\n",
    "ActionChains(driver).move_to_element(job_qualification).click(job_qualification).perform()\n",
    "driver.find_element(By.CLASS_NAME,\"job-details-skill-match-status-list\").text.split(\"\\n\")"
   ]
  },
  {
   "cell_type": "code",
   "execution_count": 170,
   "id": "f6b5619c",
   "metadata": {},
   "outputs": [
    {
     "data": {
      "text/plain": [
       "['Data Analysis',\n",
       " 'Microsoft Excel',\n",
       " 'Python (Programming Language)',\n",
       " 'SQL',\n",
       " 'Tableau',\n",
       " 'Excel Automation',\n",
       " 'Add',\n",
       " 'Knowledge Acquisition',\n",
       " 'Add',\n",
       " 'Mathematics',\n",
       " 'Add',\n",
       " 'Reporting',\n",
       " 'Add',\n",
       " 'Statistics',\n",
       " 'Add',\n",
       " 'VBA Excel',\n",
       " 'Add']"
      ]
     },
     "execution_count": 170,
     "metadata": {},
     "output_type": "execute_result"
    }
   ],
   "source": []
  },
  {
   "cell_type": "code",
   "execution_count": null,
   "id": "304c6948",
   "metadata": {},
   "outputs": [],
   "source": []
  },
  {
   "cell_type": "code",
   "execution_count": null,
   "id": "4216e557",
   "metadata": {},
   "outputs": [],
   "source": []
  },
  {
   "cell_type": "code",
   "execution_count": null,
   "id": "c6456899",
   "metadata": {},
   "outputs": [],
   "source": []
  },
  {
   "cell_type": "code",
   "execution_count": null,
   "id": "a881909d",
   "metadata": {},
   "outputs": [],
   "source": []
  },
  {
   "cell_type": "code",
   "execution_count": null,
   "id": "fb3a4d43",
   "metadata": {},
   "outputs": [],
   "source": []
  },
  {
   "cell_type": "code",
   "execution_count": 216,
   "id": "43d5970d",
   "metadata": {},
   "outputs": [],
   "source": [
    "user_agents=[]\n",
    "with open(r\"E:\\temp download\\user_agents.txt\",\"r\") as f:\n",
    "    datas=f.read().split(\"\\n\")\n",
    "datas\n",
    "datas[0]\n",
    "for i in range(len(datas)):\n",
    "    user_agents.append({'User-agent':datas[i]})\n",
    "    "
   ]
  },
  {
   "cell_type": "code",
   "execution_count": 217,
   "id": "36e92cad",
   "metadata": {},
   "outputs": [],
   "source": [
    "lenuser=len(user_agents)-1"
   ]
  },
  {
   "cell_type": "code",
   "execution_count": null,
   "id": "9514de16",
   "metadata": {},
   "outputs": [],
   "source": []
  },
  {
   "cell_type": "code",
   "execution_count": null,
   "id": "4b127b87",
   "metadata": {},
   "outputs": [],
   "source": [
    "import time\n",
    "descriptions=[]\n",
    "for i in range(len(links)):\n",
    "    header=user_agents[i%lenuser]\n",
    "    proxy=valid_proxies[i%lenproxy]\n",
    "    url=links[i]\n",
    "    page=requests.get(url,headers=header)\n",
    "    if page.status_code!=200:\n",
    "    for j in range(10):\n",
    "        header=user_agents[(i+j)%lenuser]\n",
    "        page=requests.get(url,headers=header)\n",
    "        if page.status_code==200:\n",
    "            break\n",
    "    print(i,page.status_code)\n",
    "    job_soup=BeautifulSoup(page.text,\"lxml\")\n",
    "    job_desc=[]\n",
    "    if job_soup.find({},\"description\")==None:\n",
    "    for j in (job_soup.find_all(\"p\",{\"class\":\"\"})):\n",
    "          job_desc.append(j.text)\n",
    "    else:\n",
    "    for i in (job_soup.find({},\"description\")):\n",
    "          job_desc.append(i.text)\n",
    "    descriptions.append(job_desc)\n",
    "    time.sleep(5)"
   ]
  }
 ],
 "metadata": {
  "kernelspec": {
   "display_name": "Python 3 (ipykernel)",
   "language": "python",
   "name": "python3"
  },
  "language_info": {
   "codemirror_mode": {
    "name": "ipython",
    "version": 3
   },
   "file_extension": ".py",
   "mimetype": "text/x-python",
   "name": "python",
   "nbconvert_exporter": "python",
   "pygments_lexer": "ipython3",
   "version": "3.10.9"
  }
 },
 "nbformat": 4,
 "nbformat_minor": 5
}
